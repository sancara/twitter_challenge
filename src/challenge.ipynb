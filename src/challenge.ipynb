{
  "cells": [
    {
      "cell_type": "markdown",
      "metadata": {
        "id": "HVriDht6kCSC"
      },
      "source": [
        "# Challenge Resolution"
      ]
    },
    {
      "cell_type": "markdown",
      "metadata": {
        "id": "b978kFvVjAmw"
      },
      "source": [
        "## Installing dependencies"
      ]
    },
    {
      "cell_type": "code",
      "execution_count": 1,
      "metadata": {
        "colab": {
          "base_uri": "https://localhost:8080/"
        },
        "id": "ZDmu5H90jA94",
        "outputId": "5037d152-d9f7-4911-e0fd-e8b7f502d276"
      },
      "outputs": [
        {
          "name": "stdout",
          "output_type": "stream",
          "text": [
            "Collecting pyspark\n",
            "  Downloading pyspark-3.5.0.tar.gz (316.9 MB)\n",
            "\u001b[2K     \u001b[90m━━━━━━━━━━━━━━━━━━━━━━━━━━━━━━━━━━━━━━━━\u001b[0m \u001b[32m316.9/316.9 MB\u001b[0m \u001b[31m3.7 MB/s\u001b[0m eta \u001b[36m0:00:00\u001b[0m\n",
            "\u001b[?25h  Preparing metadata (setup.py) ... \u001b[?25l\u001b[?25hdone\n",
            "Requirement already satisfied: py4j==0.10.9.7 in /usr/local/lib/python3.10/dist-packages (from pyspark) (0.10.9.7)\n",
            "Building wheels for collected packages: pyspark\n",
            "  Building wheel for pyspark (setup.py) ... \u001b[?25l\u001b[?25hdone\n",
            "  Created wheel for pyspark: filename=pyspark-3.5.0-py2.py3-none-any.whl size=317425344 sha256=8e192e512d15af441f60380e6c761b864ff666b88618fa2c697be5dce86a6f10\n",
            "  Stored in directory: /root/.cache/pip/wheels/41/4e/10/c2cf2467f71c678cfc8a6b9ac9241e5e44a01940da8fbb17fc\n",
            "Successfully built pyspark\n",
            "Installing collected packages: pyspark\n",
            "Successfully installed pyspark-3.5.0\n"
          ]
        }
      ],
      "source": [
        "!pip install pyspark"
      ]
    },
    {
      "cell_type": "markdown",
      "metadata": {
        "id": "5aPcS_xsNP4g"
      },
      "source": [
        "# Solución problema 1:\n",
        "\n",
        "\n",
        "1.   Top 10 fechas con más tweets\n",
        "2.   Mostrar el nombre de los usuarios que más tweets realizaron en esas fechas\n",
        "\n"
      ]
    },
    {
      "cell_type": "code",
      "execution_count": 2,
      "metadata": {
        "id": "E6pFTaCLriyU"
      },
      "outputs": [],
      "source": [
        "from pyspark.sql import SparkSession\n",
        "\n",
        "spark = SparkSession \\\n",
        "    .builder \\\n",
        "    .appName(\"Latamchallenge\") \\\n",
        "    .getOrCreate()"
      ]
    },
    {
      "cell_type": "code",
      "execution_count": 3,
      "metadata": {
        "id": "aiNDDzeTdKW-"
      },
      "outputs": [],
      "source": [
        "from pyspark.sql.window import Window\n",
        "import pyspark.sql.functions as F"
      ]
    },
    {
      "cell_type": "code",
      "execution_count": 4,
      "metadata": {
        "colab": {
          "base_uri": "https://localhost:8080/"
        },
        "id": "8UsHiaivsMm-",
        "outputId": "cb4b7e37-23f8-4c64-f38b-c4833352667f"
      },
      "outputs": [
        {
          "name": "stdout",
          "output_type": "stream",
          "text": [
            "root\n",
            " |-- content: string (nullable = true)\n",
            " |-- conversationId: long (nullable = true)\n",
            " |-- date: string (nullable = true)\n",
            " |-- id: long (nullable = true)\n",
            " |-- lang: string (nullable = true)\n",
            " |-- likeCount: long (nullable = true)\n",
            " |-- media: array (nullable = true)\n",
            " |    |-- element: struct (containsNull = true)\n",
            " |    |    |-- duration: double (nullable = true)\n",
            " |    |    |-- fullUrl: string (nullable = true)\n",
            " |    |    |-- previewUrl: string (nullable = true)\n",
            " |    |    |-- thumbnailUrl: string (nullable = true)\n",
            " |    |    |-- type: string (nullable = true)\n",
            " |    |    |-- variants: array (nullable = true)\n",
            " |    |    |    |-- element: struct (containsNull = true)\n",
            " |    |    |    |    |-- bitrate: long (nullable = true)\n",
            " |    |    |    |    |-- contentType: string (nullable = true)\n",
            " |    |    |    |    |-- url: string (nullable = true)\n",
            " |-- mentionedUsers: array (nullable = true)\n",
            " |    |-- element: struct (containsNull = true)\n",
            " |    |    |-- created: string (nullable = true)\n",
            " |    |    |-- description: string (nullable = true)\n",
            " |    |    |-- descriptionUrls: string (nullable = true)\n",
            " |    |    |-- displayname: string (nullable = true)\n",
            " |    |    |-- favouritesCount: string (nullable = true)\n",
            " |    |    |-- followersCount: string (nullable = true)\n",
            " |    |    |-- friendsCount: string (nullable = true)\n",
            " |    |    |-- id: long (nullable = true)\n",
            " |    |    |-- linkTcourl: string (nullable = true)\n",
            " |    |    |-- linkUrl: string (nullable = true)\n",
            " |    |    |-- listedCount: string (nullable = true)\n",
            " |    |    |-- location: string (nullable = true)\n",
            " |    |    |-- mediaCount: string (nullable = true)\n",
            " |    |    |-- profileBannerUrl: string (nullable = true)\n",
            " |    |    |-- profileImageUrl: string (nullable = true)\n",
            " |    |    |-- protected: string (nullable = true)\n",
            " |    |    |-- rawDescription: string (nullable = true)\n",
            " |    |    |-- statusesCount: string (nullable = true)\n",
            " |    |    |-- url: string (nullable = true)\n",
            " |    |    |-- username: string (nullable = true)\n",
            " |    |    |-- verified: string (nullable = true)\n",
            " |-- outlinks: array (nullable = true)\n",
            " |    |-- element: string (containsNull = true)\n",
            " |-- quoteCount: long (nullable = true)\n",
            " |-- quotedTweet: struct (nullable = true)\n",
            " |    |-- content: string (nullable = true)\n",
            " |    |-- conversationId: long (nullable = true)\n",
            " |    |-- date: string (nullable = true)\n",
            " |    |-- id: long (nullable = true)\n",
            " |    |-- lang: string (nullable = true)\n",
            " |    |-- likeCount: long (nullable = true)\n",
            " |    |-- media: array (nullable = true)\n",
            " |    |    |-- element: struct (containsNull = true)\n",
            " |    |    |    |-- duration: double (nullable = true)\n",
            " |    |    |    |-- fullUrl: string (nullable = true)\n",
            " |    |    |    |-- previewUrl: string (nullable = true)\n",
            " |    |    |    |-- thumbnailUrl: string (nullable = true)\n",
            " |    |    |    |-- type: string (nullable = true)\n",
            " |    |    |    |-- variants: array (nullable = true)\n",
            " |    |    |    |    |-- element: struct (containsNull = true)\n",
            " |    |    |    |    |    |-- bitrate: long (nullable = true)\n",
            " |    |    |    |    |    |-- contentType: string (nullable = true)\n",
            " |    |    |    |    |    |-- url: string (nullable = true)\n",
            " |    |-- mentionedUsers: array (nullable = true)\n",
            " |    |    |-- element: struct (containsNull = true)\n",
            " |    |    |    |-- created: string (nullable = true)\n",
            " |    |    |    |-- description: string (nullable = true)\n",
            " |    |    |    |-- descriptionUrls: string (nullable = true)\n",
            " |    |    |    |-- displayname: string (nullable = true)\n",
            " |    |    |    |-- favouritesCount: string (nullable = true)\n",
            " |    |    |    |-- followersCount: string (nullable = true)\n",
            " |    |    |    |-- friendsCount: string (nullable = true)\n",
            " |    |    |    |-- id: long (nullable = true)\n",
            " |    |    |    |-- linkTcourl: string (nullable = true)\n",
            " |    |    |    |-- linkUrl: string (nullable = true)\n",
            " |    |    |    |-- listedCount: string (nullable = true)\n",
            " |    |    |    |-- location: string (nullable = true)\n",
            " |    |    |    |-- mediaCount: string (nullable = true)\n",
            " |    |    |    |-- profileBannerUrl: string (nullable = true)\n",
            " |    |    |    |-- profileImageUrl: string (nullable = true)\n",
            " |    |    |    |-- protected: string (nullable = true)\n",
            " |    |    |    |-- rawDescription: string (nullable = true)\n",
            " |    |    |    |-- statusesCount: string (nullable = true)\n",
            " |    |    |    |-- url: string (nullable = true)\n",
            " |    |    |    |-- username: string (nullable = true)\n",
            " |    |    |    |-- verified: string (nullable = true)\n",
            " |    |-- outlinks: array (nullable = true)\n",
            " |    |    |-- element: string (containsNull = true)\n",
            " |    |-- quoteCount: long (nullable = true)\n",
            " |    |-- quotedTweet: struct (nullable = true)\n",
            " |    |    |-- content: string (nullable = true)\n",
            " |    |    |-- conversationId: long (nullable = true)\n",
            " |    |    |-- date: string (nullable = true)\n",
            " |    |    |-- id: long (nullable = true)\n",
            " |    |    |-- lang: string (nullable = true)\n",
            " |    |    |-- likeCount: long (nullable = true)\n",
            " |    |    |-- media: array (nullable = true)\n",
            " |    |    |    |-- element: struct (containsNull = true)\n",
            " |    |    |    |    |-- duration: double (nullable = true)\n",
            " |    |    |    |    |-- fullUrl: string (nullable = true)\n",
            " |    |    |    |    |-- previewUrl: string (nullable = true)\n",
            " |    |    |    |    |-- thumbnailUrl: string (nullable = true)\n",
            " |    |    |    |    |-- type: string (nullable = true)\n",
            " |    |    |    |    |-- variants: array (nullable = true)\n",
            " |    |    |    |    |    |-- element: struct (containsNull = true)\n",
            " |    |    |    |    |    |    |-- bitrate: long (nullable = true)\n",
            " |    |    |    |    |    |    |-- contentType: string (nullable = true)\n",
            " |    |    |    |    |    |    |-- url: string (nullable = true)\n",
            " |    |    |-- mentionedUsers: array (nullable = true)\n",
            " |    |    |    |-- element: struct (containsNull = true)\n",
            " |    |    |    |    |-- created: string (nullable = true)\n",
            " |    |    |    |    |-- description: string (nullable = true)\n",
            " |    |    |    |    |-- descriptionUrls: string (nullable = true)\n",
            " |    |    |    |    |-- displayname: string (nullable = true)\n",
            " |    |    |    |    |-- favouritesCount: string (nullable = true)\n",
            " |    |    |    |    |-- followersCount: string (nullable = true)\n",
            " |    |    |    |    |-- friendsCount: string (nullable = true)\n",
            " |    |    |    |    |-- id: long (nullable = true)\n",
            " |    |    |    |    |-- linkTcourl: string (nullable = true)\n",
            " |    |    |    |    |-- linkUrl: string (nullable = true)\n",
            " |    |    |    |    |-- listedCount: string (nullable = true)\n",
            " |    |    |    |    |-- location: string (nullable = true)\n",
            " |    |    |    |    |-- mediaCount: string (nullable = true)\n",
            " |    |    |    |    |-- profileBannerUrl: string (nullable = true)\n",
            " |    |    |    |    |-- profileImageUrl: string (nullable = true)\n",
            " |    |    |    |    |-- protected: string (nullable = true)\n",
            " |    |    |    |    |-- rawDescription: string (nullable = true)\n",
            " |    |    |    |    |-- statusesCount: string (nullable = true)\n",
            " |    |    |    |    |-- url: string (nullable = true)\n",
            " |    |    |    |    |-- username: string (nullable = true)\n",
            " |    |    |    |    |-- verified: string (nullable = true)\n",
            " |    |    |-- outlinks: array (nullable = true)\n",
            " |    |    |    |-- element: string (containsNull = true)\n",
            " |    |    |-- quoteCount: long (nullable = true)\n",
            " |    |    |-- quotedTweet: struct (nullable = true)\n",
            " |    |    |    |-- content: string (nullable = true)\n",
            " |    |    |    |-- conversationId: long (nullable = true)\n",
            " |    |    |    |-- date: string (nullable = true)\n",
            " |    |    |    |-- id: long (nullable = true)\n",
            " |    |    |    |-- lang: string (nullable = true)\n",
            " |    |    |    |-- likeCount: long (nullable = true)\n",
            " |    |    |    |-- media: array (nullable = true)\n",
            " |    |    |    |    |-- element: struct (containsNull = true)\n",
            " |    |    |    |    |    |-- duration: double (nullable = true)\n",
            " |    |    |    |    |    |-- fullUrl: string (nullable = true)\n",
            " |    |    |    |    |    |-- previewUrl: string (nullable = true)\n",
            " |    |    |    |    |    |-- thumbnailUrl: string (nullable = true)\n",
            " |    |    |    |    |    |-- type: string (nullable = true)\n",
            " |    |    |    |    |    |-- variants: array (nullable = true)\n",
            " |    |    |    |    |    |    |-- element: struct (containsNull = true)\n",
            " |    |    |    |    |    |    |    |-- bitrate: long (nullable = true)\n",
            " |    |    |    |    |    |    |    |-- contentType: string (nullable = true)\n",
            " |    |    |    |    |    |    |    |-- url: string (nullable = true)\n",
            " |    |    |    |-- mentionedUsers: array (nullable = true)\n",
            " |    |    |    |    |-- element: struct (containsNull = true)\n",
            " |    |    |    |    |    |-- created: string (nullable = true)\n",
            " |    |    |    |    |    |-- description: string (nullable = true)\n",
            " |    |    |    |    |    |-- descriptionUrls: string (nullable = true)\n",
            " |    |    |    |    |    |-- displayname: string (nullable = true)\n",
            " |    |    |    |    |    |-- favouritesCount: string (nullable = true)\n",
            " |    |    |    |    |    |-- followersCount: string (nullable = true)\n",
            " |    |    |    |    |    |-- friendsCount: string (nullable = true)\n",
            " |    |    |    |    |    |-- id: long (nullable = true)\n",
            " |    |    |    |    |    |-- linkTcourl: string (nullable = true)\n",
            " |    |    |    |    |    |-- linkUrl: string (nullable = true)\n",
            " |    |    |    |    |    |-- listedCount: string (nullable = true)\n",
            " |    |    |    |    |    |-- location: string (nullable = true)\n",
            " |    |    |    |    |    |-- mediaCount: string (nullable = true)\n",
            " |    |    |    |    |    |-- profileBannerUrl: string (nullable = true)\n",
            " |    |    |    |    |    |-- profileImageUrl: string (nullable = true)\n",
            " |    |    |    |    |    |-- protected: string (nullable = true)\n",
            " |    |    |    |    |    |-- rawDescription: string (nullable = true)\n",
            " |    |    |    |    |    |-- statusesCount: string (nullable = true)\n",
            " |    |    |    |    |    |-- url: string (nullable = true)\n",
            " |    |    |    |    |    |-- username: string (nullable = true)\n",
            " |    |    |    |    |    |-- verified: string (nullable = true)\n",
            " |    |    |    |-- outlinks: array (nullable = true)\n",
            " |    |    |    |    |-- element: string (containsNull = true)\n",
            " |    |    |    |-- quoteCount: long (nullable = true)\n",
            " |    |    |    |-- quotedTweet: string (nullable = true)\n",
            " |    |    |    |-- renderedContent: string (nullable = true)\n",
            " |    |    |    |-- replyCount: long (nullable = true)\n",
            " |    |    |    |-- retweetCount: long (nullable = true)\n",
            " |    |    |    |-- retweetedTweet: string (nullable = true)\n",
            " |    |    |    |-- source: string (nullable = true)\n",
            " |    |    |    |-- sourceLabel: string (nullable = true)\n",
            " |    |    |    |-- sourceUrl: string (nullable = true)\n",
            " |    |    |    |-- tcooutlinks: array (nullable = true)\n",
            " |    |    |    |    |-- element: string (containsNull = true)\n",
            " |    |    |    |-- url: string (nullable = true)\n",
            " |    |    |    |-- user: struct (nullable = true)\n",
            " |    |    |    |    |-- created: string (nullable = true)\n",
            " |    |    |    |    |-- description: string (nullable = true)\n",
            " |    |    |    |    |-- descriptionUrls: array (nullable = true)\n",
            " |    |    |    |    |    |-- element: string (containsNull = true)\n",
            " |    |    |    |    |-- displayname: string (nullable = true)\n",
            " |    |    |    |    |-- favouritesCount: long (nullable = true)\n",
            " |    |    |    |    |-- followersCount: long (nullable = true)\n",
            " |    |    |    |    |-- friendsCount: long (nullable = true)\n",
            " |    |    |    |    |-- id: long (nullable = true)\n",
            " |    |    |    |    |-- linkTcourl: string (nullable = true)\n",
            " |    |    |    |    |-- linkUrl: string (nullable = true)\n",
            " |    |    |    |    |-- listedCount: long (nullable = true)\n",
            " |    |    |    |    |-- location: string (nullable = true)\n",
            " |    |    |    |    |-- mediaCount: long (nullable = true)\n",
            " |    |    |    |    |-- profileBannerUrl: string (nullable = true)\n",
            " |    |    |    |    |-- profileImageUrl: string (nullable = true)\n",
            " |    |    |    |    |-- protected: boolean (nullable = true)\n",
            " |    |    |    |    |-- rawDescription: string (nullable = true)\n",
            " |    |    |    |    |-- statusesCount: long (nullable = true)\n",
            " |    |    |    |    |-- url: string (nullable = true)\n",
            " |    |    |    |    |-- username: string (nullable = true)\n",
            " |    |    |    |    |-- verified: boolean (nullable = true)\n",
            " |    |    |-- renderedContent: string (nullable = true)\n",
            " |    |    |-- replyCount: long (nullable = true)\n",
            " |    |    |-- retweetCount: long (nullable = true)\n",
            " |    |    |-- retweetedTweet: string (nullable = true)\n",
            " |    |    |-- source: string (nullable = true)\n",
            " |    |    |-- sourceLabel: string (nullable = true)\n",
            " |    |    |-- sourceUrl: string (nullable = true)\n",
            " |    |    |-- tcooutlinks: array (nullable = true)\n",
            " |    |    |    |-- element: string (containsNull = true)\n",
            " |    |    |-- url: string (nullable = true)\n",
            " |    |    |-- user: struct (nullable = true)\n",
            " |    |    |    |-- created: string (nullable = true)\n",
            " |    |    |    |-- description: string (nullable = true)\n",
            " |    |    |    |-- descriptionUrls: array (nullable = true)\n",
            " |    |    |    |    |-- element: struct (containsNull = true)\n",
            " |    |    |    |    |    |-- indices: array (nullable = true)\n",
            " |    |    |    |    |    |    |-- element: long (containsNull = true)\n",
            " |    |    |    |    |    |-- tcourl: string (nullable = true)\n",
            " |    |    |    |    |    |-- text: string (nullable = true)\n",
            " |    |    |    |    |    |-- url: string (nullable = true)\n",
            " |    |    |    |-- displayname: string (nullable = true)\n",
            " |    |    |    |-- favouritesCount: long (nullable = true)\n",
            " |    |    |    |-- followersCount: long (nullable = true)\n",
            " |    |    |    |-- friendsCount: long (nullable = true)\n",
            " |    |    |    |-- id: long (nullable = true)\n",
            " |    |    |    |-- linkTcourl: string (nullable = true)\n",
            " |    |    |    |-- linkUrl: string (nullable = true)\n",
            " |    |    |    |-- listedCount: long (nullable = true)\n",
            " |    |    |    |-- location: string (nullable = true)\n",
            " |    |    |    |-- mediaCount: long (nullable = true)\n",
            " |    |    |    |-- profileBannerUrl: string (nullable = true)\n",
            " |    |    |    |-- profileImageUrl: string (nullable = true)\n",
            " |    |    |    |-- protected: boolean (nullable = true)\n",
            " |    |    |    |-- rawDescription: string (nullable = true)\n",
            " |    |    |    |-- statusesCount: long (nullable = true)\n",
            " |    |    |    |-- url: string (nullable = true)\n",
            " |    |    |    |-- username: string (nullable = true)\n",
            " |    |    |    |-- verified: boolean (nullable = true)\n",
            " |    |-- renderedContent: string (nullable = true)\n",
            " |    |-- replyCount: long (nullable = true)\n",
            " |    |-- retweetCount: long (nullable = true)\n",
            " |    |-- retweetedTweet: string (nullable = true)\n",
            " |    |-- source: string (nullable = true)\n",
            " |    |-- sourceLabel: string (nullable = true)\n",
            " |    |-- sourceUrl: string (nullable = true)\n",
            " |    |-- tcooutlinks: array (nullable = true)\n",
            " |    |    |-- element: string (containsNull = true)\n",
            " |    |-- url: string (nullable = true)\n",
            " |    |-- user: struct (nullable = true)\n",
            " |    |    |-- created: string (nullable = true)\n",
            " |    |    |-- description: string (nullable = true)\n",
            " |    |    |-- descriptionUrls: array (nullable = true)\n",
            " |    |    |    |-- element: struct (containsNull = true)\n",
            " |    |    |    |    |-- indices: array (nullable = true)\n",
            " |    |    |    |    |    |-- element: long (containsNull = true)\n",
            " |    |    |    |    |-- tcourl: string (nullable = true)\n",
            " |    |    |    |    |-- text: string (nullable = true)\n",
            " |    |    |    |    |-- url: string (nullable = true)\n",
            " |    |    |-- displayname: string (nullable = true)\n",
            " |    |    |-- favouritesCount: long (nullable = true)\n",
            " |    |    |-- followersCount: long (nullable = true)\n",
            " |    |    |-- friendsCount: long (nullable = true)\n",
            " |    |    |-- id: long (nullable = true)\n",
            " |    |    |-- linkTcourl: string (nullable = true)\n",
            " |    |    |-- linkUrl: string (nullable = true)\n",
            " |    |    |-- listedCount: long (nullable = true)\n",
            " |    |    |-- location: string (nullable = true)\n",
            " |    |    |-- mediaCount: long (nullable = true)\n",
            " |    |    |-- profileBannerUrl: string (nullable = true)\n",
            " |    |    |-- profileImageUrl: string (nullable = true)\n",
            " |    |    |-- protected: boolean (nullable = true)\n",
            " |    |    |-- rawDescription: string (nullable = true)\n",
            " |    |    |-- statusesCount: long (nullable = true)\n",
            " |    |    |-- url: string (nullable = true)\n",
            " |    |    |-- username: string (nullable = true)\n",
            " |    |    |-- verified: boolean (nullable = true)\n",
            " |-- renderedContent: string (nullable = true)\n",
            " |-- replyCount: long (nullable = true)\n",
            " |-- retweetCount: long (nullable = true)\n",
            " |-- retweetedTweet: string (nullable = true)\n",
            " |-- source: string (nullable = true)\n",
            " |-- sourceLabel: string (nullable = true)\n",
            " |-- sourceUrl: string (nullable = true)\n",
            " |-- tcooutlinks: array (nullable = true)\n",
            " |    |-- element: string (containsNull = true)\n",
            " |-- url: string (nullable = true)\n",
            " |-- user: struct (nullable = true)\n",
            " |    |-- created: string (nullable = true)\n",
            " |    |-- description: string (nullable = true)\n",
            " |    |-- descriptionUrls: array (nullable = true)\n",
            " |    |    |-- element: struct (containsNull = true)\n",
            " |    |    |    |-- indices: array (nullable = true)\n",
            " |    |    |    |    |-- element: long (containsNull = true)\n",
            " |    |    |    |-- tcourl: string (nullable = true)\n",
            " |    |    |    |-- text: string (nullable = true)\n",
            " |    |    |    |-- url: string (nullable = true)\n",
            " |    |-- displayname: string (nullable = true)\n",
            " |    |-- favouritesCount: long (nullable = true)\n",
            " |    |-- followersCount: long (nullable = true)\n",
            " |    |-- friendsCount: long (nullable = true)\n",
            " |    |-- id: long (nullable = true)\n",
            " |    |-- linkTcourl: string (nullable = true)\n",
            " |    |-- linkUrl: string (nullable = true)\n",
            " |    |-- listedCount: long (nullable = true)\n",
            " |    |-- location: string (nullable = true)\n",
            " |    |-- mediaCount: long (nullable = true)\n",
            " |    |-- profileBannerUrl: string (nullable = true)\n",
            " |    |-- profileImageUrl: string (nullable = true)\n",
            " |    |-- protected: boolean (nullable = true)\n",
            " |    |-- rawDescription: string (nullable = true)\n",
            " |    |-- statusesCount: long (nullable = true)\n",
            " |    |-- url: string (nullable = true)\n",
            " |    |-- username: string (nullable = true)\n",
            " |    |-- verified: boolean (nullable = true)\n",
            "\n",
            "None\n",
            "+--------------------+-------------------+--------------------+-------------------+----+---------+--------------------+--------------------+--------------------+----------+--------------------+--------------------+----------+------------+--------------+--------------------+-------------------+--------------------+--------------------+--------------------+--------------------+\n",
            "|             content|     conversationId|                date|                 id|lang|likeCount|               media|      mentionedUsers|            outlinks|quoteCount|         quotedTweet|     renderedContent|replyCount|retweetCount|retweetedTweet|              source|        sourceLabel|           sourceUrl|         tcooutlinks|                 url|                user|\n",
            "+--------------------+-------------------+--------------------+-------------------+----+---------+--------------------+--------------------+--------------------+----------+--------------------+--------------------+----------+------------+--------------+--------------------+-------------------+--------------------+--------------------+--------------------+--------------------+\n",
            "|The world progres...|1364506249291784198|2021-02-24T09:23:...|1364506249291784198|  en|        0|                NULL|[{NULL, NULL, NUL...|[https://twitter....|         0|{This is what the...|The world progres...|         0|           0|          NULL|<a href=\"http://t...| Twitter for iPhone|http://twitter.co...|[https://t.co/es3...|https://twitter.c...|{2009-06-06T07:50...|\n",
            "|#FarmersProtest \\...|1364506237451313155|2021-02-24T09:23:...|1364506237451313155|  en|        0|[{139.934, NULL, ...|[{NULL, NULL, NUL...|                  []|         0|                NULL|#FarmersProtest \\...|         0|           0|          NULL|<a href=\"http://t...|Twitter for Android|http://twitter.co...|                  []|https://twitter.c...|{2021-01-29T09:58...|\n",
            "|ਪੈਟਰੋਲ ਦੀਆਂ ਕੀਮਤਾ...|1364506195453767680|2021-02-24T09:23:...|1364506195453767680|  pa|        0|                NULL|                NULL|                  []|         0|                NULL|ਪੈਟਰੋਲ ਦੀਆਂ ਕੀਮਤਾ...|         0|           0|          NULL|<a href=\"http://t...|Twitter for Android|http://twitter.co...|                  []|https://twitter.c...|{2012-01-27T17:30...|\n",
            "|@ReallySwara @roh...|1364350947099484160|2021-02-24T09:23:...|1364506167226032128|  en|        0|[{46.375, NULL, N...|[{NULL, NULL, NUL...|[https://youtu.be...|         0|                NULL|@ReallySwara @roh...|         0|           0|          NULL|<a href=\"https://...|    Twitter Web App|https://mobile.tw...|[https://t.co/wBP...|https://twitter.c...|{2010-04-28T03:12...|\n",
            "|#KisanEktaMorcha ...|1364506144002088963|2021-02-24T09:23:...|1364506144002088963| und|        0|[{NULL, https://p...|                NULL|                  []|         0|                NULL|#KisanEktaMorcha ...|         0|           0|          NULL|<a href=\"http://t...| Twitter for iPhone|http://twitter.co...|                  []|https://twitter.c...|{2021-02-08T14:35...|\n",
            "+--------------------+-------------------+--------------------+-------------------+----+---------+--------------------+--------------------+--------------------+----------+--------------------+--------------------+----------+------------+--------------+--------------------+-------------------+--------------------+--------------------+--------------------+--------------------+\n",
            "only showing top 5 rows\n",
            "\n",
            "(117407, 21)\n"
          ]
        }
      ],
      "source": [
        "rdata = spark.read.json('/content/drive/MyDrive/data/farmers-protest-tweets-2021-2-4.json')\n",
        "print(rdata.printSchema())\n",
        "rdata.show(5)\n",
        "print((rdata.count(), len(rdata.columns)))"
      ]
    },
    {
      "cell_type": "code",
      "execution_count": 6,
      "metadata": {
        "colab": {
          "base_uri": "https://localhost:8080/"
        },
        "id": "yFHgqLlDuBvc",
        "outputId": "c712bf49-835c-4d33-e37e-94b7f6cbd133"
      },
      "outputs": [
        {
          "name": "stdout",
          "output_type": "stream",
          "text": [
            "+----------+---------------+\n",
            "|      date|       username|\n",
            "+----------+---------------+\n",
            "|2021-02-24|ArjunSinghPanam|\n",
            "|2021-02-24|     PrdeepNain|\n",
            "|2021-02-24| parmarmaninder|\n",
            "|2021-02-24|  anmoldhaliwal|\n",
            "|2021-02-24|     KotiaPreet|\n",
            "+----------+---------------+\n",
            "only showing top 5 rows\n",
            "\n"
          ]
        }
      ],
      "source": [
        "# Filtro la raw data quedándome sólo con las columnas que necesito para este problema.\n",
        "q1_data = rdata.select('date', 'user.username').withColumn(\"date\", F.to_date('date'))\n",
        "q1_data.show(5)"
      ]
    },
    {
      "cell_type": "code",
      "execution_count": 34,
      "metadata": {
        "colab": {
          "base_uri": "https://localhost:8080/"
        },
        "id": "8B9TyK5jV8Pe",
        "outputId": "f2f813cd-07eb-4fbb-bd4f-b43afdf8adf1"
      },
      "outputs": [
        {
          "name": "stdout",
          "output_type": "stream",
          "text": [
            "+----------+---------------+-----+\n",
            "|      date|       username|count|\n",
            "+----------+---------------+-----+\n",
            "|2021-02-24| BumblebeeUmeed|    1|\n",
            "|2021-02-24|       htTweets|    2|\n",
            "|2021-02-24|       v_sanjai|    1|\n",
            "|2021-02-24|     dr_sonia27|    1|\n",
            "|2021-02-24|   RamneetMann4|    1|\n",
            "|2021-02-24|   JPSinghRuhil|    2|\n",
            "|2021-02-24|   BjpReporting|    1|\n",
            "|2021-02-24| manesh67726670|    1|\n",
            "|2021-02-24|        AKulvir|    1|\n",
            "|2021-02-24|       HAchahal|    1|\n",
            "|2021-02-24| AnuragVerma_SP|    1|\n",
            "|2021-02-24|Gurwind33930102|    3|\n",
            "|2021-02-23|   TechieKisaan|    2|\n",
            "|2021-02-23| MindsetMatter1|    1|\n",
            "|2021-02-23|  Nimratkhaira_|    1|\n",
            "|2021-02-23|    Lats_tweets|    1|\n",
            "|2021-02-23|Deshbha99450233|    1|\n",
            "|2021-02-23|     SecondEye5|    1|\n",
            "|2021-02-23|     alieshan09|    1|\n",
            "|2021-02-23|      SikhWhite|    1|\n",
            "+----------+---------------+-----+\n",
            "only showing top 20 rows\n",
            "\n"
          ]
        }
      ],
      "source": [
        "# Realizo un conteo por fecha y por usuario.\n",
        "# Me servirá para luego sacar los top10 por fecha y por usuario\n",
        "date_activity = q1_data.groupBy('date', 'username').count()\n",
        "date_activity.show()"
      ]
    },
    {
      "cell_type": "code",
      "execution_count": 14,
      "metadata": {
        "colab": {
          "base_uri": "https://localhost:8080/"
        },
        "id": "vc6kiVxhgJhS",
        "outputId": "4ac1f647-dad9-486d-d3d6-1acc78ff65de"
      },
      "outputs": [
        {
          "name": "stdout",
          "output_type": "stream",
          "text": [
            "+----------+--------------+\n",
            "|      date|total_activity|\n",
            "+----------+--------------+\n",
            "|2021-02-15|          9197|\n",
            "|2021-02-21|          7532|\n",
            "|2021-02-19|          8204|\n",
            "|2021-02-20|          8502|\n",
            "|2021-02-17|         11087|\n",
            "|2021-02-24|          3437|\n",
            "|2021-02-18|          9625|\n",
            "|2021-02-14|         10249|\n",
            "|2021-02-12|         12347|\n",
            "|2021-02-22|          7071|\n",
            "|2021-02-13|         11296|\n",
            "|2021-02-23|          8417|\n",
            "|2021-02-16|         10443|\n",
            "+----------+--------------+\n",
            "\n"
          ]
        }
      ],
      "source": [
        "# Realizo una sumarización del conteo por fecha\n",
        "date_total_activity = date_activity.groupBy('date').agg(F.sum('count').alias('total_activity'))\n",
        "date_total_activity.show()"
      ]
    },
    {
      "cell_type": "code",
      "execution_count": 15,
      "metadata": {
        "colab": {
          "base_uri": "https://localhost:8080/"
        },
        "id": "OxFKUpcidCEl",
        "outputId": "79bc80e1-e466-429c-d7bc-c683a409d31f"
      },
      "outputs": [
        {
          "name": "stdout",
          "output_type": "stream",
          "text": [
            "+----------+--------------+----+\n",
            "|      date|total_activity|rank|\n",
            "+----------+--------------+----+\n",
            "|2021-02-12|         12347|   1|\n",
            "|2021-02-13|         11296|   2|\n",
            "|2021-02-17|         11087|   3|\n",
            "|2021-02-16|         10443|   4|\n",
            "|2021-02-14|         10249|   5|\n",
            "|2021-02-18|          9625|   6|\n",
            "|2021-02-15|          9197|   7|\n",
            "|2021-02-20|          8502|   8|\n",
            "|2021-02-23|          8417|   9|\n",
            "|2021-02-19|          8204|  10|\n",
            "|2021-02-21|          7532|  11|\n",
            "|2021-02-22|          7071|  12|\n",
            "|2021-02-24|          3437|  13|\n",
            "+----------+--------------+----+\n",
            "\n"
          ]
        }
      ],
      "source": [
        "# Mediante la función analítica genero un ranking de la actividad por día\n",
        "window_spec = Window.orderBy(F.desc(\"total_activity\"))\n",
        "date_total_activity = date_total_activity.withColumn(\"rank\", F.row_number().over(window_spec))\n",
        "\n",
        "date_total_activity.show()"
      ]
    },
    {
      "cell_type": "code",
      "execution_count": 18,
      "metadata": {
        "colab": {
          "base_uri": "https://localhost:8080/"
        },
        "id": "IC03qIYMG0MB",
        "outputId": "b636f643-cd31-423f-a24f-e9c4331d12c1"
      },
      "outputs": [
        {
          "name": "stdout",
          "output_type": "stream",
          "text": [
            "+----------+--------------+----+\n",
            "|      date|total_activity|rank|\n",
            "+----------+--------------+----+\n",
            "|2021-02-12|         12347|   1|\n",
            "|2021-02-13|         11296|   2|\n",
            "|2021-02-17|         11087|   3|\n",
            "|2021-02-16|         10443|   4|\n",
            "|2021-02-14|         10249|   5|\n",
            "|2021-02-18|          9625|   6|\n",
            "|2021-02-15|          9197|   7|\n",
            "|2021-02-20|          8502|   8|\n",
            "|2021-02-23|          8417|   9|\n",
            "|2021-02-19|          8204|  10|\n",
            "+----------+--------------+----+\n",
            "\n"
          ]
        }
      ],
      "source": [
        "# Realizo un filtro por la columna ranking quedándome sólo con las menores o iguales a 10\n",
        "top_10_dates = date_total_activity.filter(\"rank <= 10\")\n",
        "top_10_dates.show()"
      ]
    },
    {
      "cell_type": "code",
      "execution_count": 37,
      "metadata": {
        "colab": {
          "base_uri": "https://localhost:8080/"
        },
        "id": "MPEYQl1uMAfT",
        "outputId": "2decd504-a005-4dc3-d171-82a6af84c7f3"
      },
      "outputs": [
        {
          "data": {
            "text/plain": [
              "[Row(date=datetime.date(2021, 2, 12), username='RanbirS00614606'),\n",
              " Row(date=datetime.date(2021, 2, 13), username='MaanDee08215437'),\n",
              " Row(date=datetime.date(2021, 2, 17), username='RaaJVinderkaur'),\n",
              " Row(date=datetime.date(2021, 2, 16), username='jot__b'),\n",
              " Row(date=datetime.date(2021, 2, 14), username='rebelpacifist'),\n",
              " Row(date=datetime.date(2021, 2, 18), username='neetuanjle_nitu'),\n",
              " Row(date=datetime.date(2021, 2, 15), username='jot__b'),\n",
              " Row(date=datetime.date(2021, 2, 20), username='MangalJ23056160'),\n",
              " Row(date=datetime.date(2021, 2, 23), username='Surrypuria'),\n",
              " Row(date=datetime.date(2021, 2, 19), username='Preetm91')]"
            ]
          },
          "execution_count": 37,
          "metadata": {},
          "output_type": "execute_result"
        }
      ],
      "source": [
        "# Utilizo la misma función analítica row_number, en esta ocasión para filtrar\n",
        "# por el usuario que más tweets realizó por cada fecha\n",
        "most_active_users_per_date = date_activity \\\n",
        "    .groupBy(\"date\", \"username\") \\\n",
        "    .agg(F.sum(\"count\").alias(\"user_activity\")) \\\n",
        "    .withColumn(\"rank\", F.row_number().over(Window.partitionBy(\"date\").orderBy(F.desc(\"user_activity\")))) \\\n",
        "    .filter(\"rank = 1\")\n",
        "\n",
        "# Realizo un join, respetando el orden de mi top10 de fechas con más actividad\n",
        "# mencionando al usuario que más tweets realizó en cada fecha\n",
        "top_10_dates.join(most_active_users_per_date, on=['date'], how='left').select('date', 'username').collect()"
      ]
    },
    {
      "cell_type": "markdown",
      "metadata": {
        "id": "c9DwFptTrU2c"
      },
      "source": []
    },
    {
      "cell_type": "markdown",
      "metadata": {
        "id": "izgosTJMX3m5"
      },
      "source": [
        "# Solución problema 2:"
      ]
    },
    {
      "cell_type": "markdown",
      "metadata": {},
      "source": []
    },
    {
      "cell_type": "code",
      "execution_count": null,
      "metadata": {
        "id": "YWQUyKH4X7gh"
      },
      "outputs": [],
      "source": []
    },
    {
      "cell_type": "markdown",
      "metadata": {
        "id": "uKD_lglMX7_p"
      },
      "source": [
        "# Solución problema 3:"
      ]
    },
    {
      "cell_type": "code",
      "execution_count": null,
      "metadata": {
        "id": "-b1oQrOXX-5k"
      },
      "outputs": [],
      "source": []
    }
  ],
  "metadata": {
    "colab": {
      "provenance": [],
      "toc_visible": true
    },
    "kernelspec": {
      "display_name": "Python 3",
      "name": "python3"
    },
    "language_info": {
      "name": "python"
    }
  },
  "nbformat": 4,
  "nbformat_minor": 0
}
